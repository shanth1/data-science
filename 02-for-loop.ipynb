{
 "cells": [
  {
   "cell_type": "markdown",
   "id": "18e84a95-683b-4729-9cc9-7e9a2113dfdc",
   "metadata": {},
   "source": [
    "## Цикл for"
   ]
  },
  {
   "cell_type": "markdown",
   "id": "94f8696f-fd54-4266-84ed-9b922c4edff6",
   "metadata": {},
   "source": [
    "### Классическая запись"
   ]
  },
  {
   "cell_type": "code",
   "execution_count": 1,
   "id": "012f377b-eded-45be-bb41-7bf79347c1a2",
   "metadata": {},
   "outputs": [
    {
     "name": "stdout",
     "output_type": "stream",
     "text": [
      "1\n",
      "2\n",
      "3\n",
      "4\n"
     ]
    }
   ],
   "source": [
    "l = [1, 2, 3, 4]\n",
    "for i in l: \n",
    "    print(i)"
   ]
  },
  {
   "cell_type": "code",
   "execution_count": 2,
   "id": "b1f9ee09-c7d9-4e40-955e-332101548168",
   "metadata": {},
   "outputs": [
    {
     "name": "stdout",
     "output_type": "stream",
     "text": [
      "2 4 "
     ]
    }
   ],
   "source": [
    "for i in range(2, 6, 2):\n",
    "    print(i, end=' ')"
   ]
  },
  {
   "cell_type": "markdown",
   "id": "77d87eea-5c11-4e29-a5af-6b20c1567e0f",
   "metadata": {},
   "source": [
    "### Сокращенная запись"
   ]
  },
  {
   "cell_type": "code",
   "execution_count": 3,
   "id": "be752bcf-e68c-4333-937e-a31044da876d",
   "metadata": {},
   "outputs": [
    {
     "name": "stdout",
     "output_type": "stream",
     "text": [
      "[0, 1, 2, 3, 4]\n"
     ]
    }
   ],
   "source": [
    "print([i for i in range(5)])"
   ]
  },
  {
   "cell_type": "markdown",
   "id": "5762d095-26fe-4713-a70e-38a94fdc25db",
   "metadata": {},
   "source": [
    "#### Список, заполненный квадратами чисел"
   ]
  },
  {
   "cell_type": "code",
   "execution_count": 4,
   "id": "0b5a3de1-5fac-4e1d-b272-f8db1c0e2b3d",
   "metadata": {},
   "outputs": [
    {
     "name": "stdout",
     "output_type": "stream",
     "text": [
      "[1, 4, 9, 16]\n"
     ]
    }
   ],
   "source": [
    "print([x**2 for x in range(1, 5)])"
   ]
  },
  {
   "cell_type": "markdown",
   "id": "5e7b9d1a-a2f1-48b3-a950-20618c87b3b6",
   "metadata": {},
   "source": [
    "#### Фильтрация и преобразование элементов списка"
   ]
  },
  {
   "cell_type": "code",
   "execution_count": 5,
   "id": "5f8f2491-c377-420d-8980-6b3e948ad570",
   "metadata": {},
   "outputs": [
    {
     "data": {
      "text/plain": [
       "[0, 4, 16, 36, 64]"
      ]
     },
     "execution_count": 5,
     "metadata": {},
     "output_type": "execute_result"
    }
   ],
   "source": [
    "[x**2 for x in range(10) if x % 2 == 0]"
   ]
  },
  {
   "cell_type": "markdown",
   "id": "4a5d5ec5-27ca-4168-baa4-c042a088a8ec",
   "metadata": {},
   "source": [
    "#### Использование функции map"
   ]
  },
  {
   "cell_type": "code",
   "execution_count": 6,
   "id": "db75d85b-863f-4788-89c7-d0b51086eb25",
   "metadata": {},
   "outputs": [
    {
     "data": {
      "text/plain": [
       "[0, 1, 8, 27, 64, 125, 216, 343, 512, 729]"
      ]
     },
     "execution_count": 6,
     "metadata": {},
     "output_type": "execute_result"
    }
   ],
   "source": [
    "list(map(lambda x: x**3, range(10)))"
   ]
  },
  {
   "cell_type": "markdown",
   "id": "b94f8702-7f5e-42c6-ad70-d586d87a4cf8",
   "metadata": {},
   "source": [
    "#### Использование функции filter для отсеивания нечетных чисел"
   ]
  },
  {
   "cell_type": "code",
   "execution_count": 7,
   "id": "21e47a76-ef59-479f-a5fc-28ea5eec9ddc",
   "metadata": {},
   "outputs": [
    {
     "data": {
      "text/plain": [
       "[2, 4]"
      ]
     },
     "execution_count": 7,
     "metadata": {},
     "output_type": "execute_result"
    }
   ],
   "source": [
    "list(filter(lambda x: x % 2 == 0, [1, 2, 3, 4]))"
   ]
  },
  {
   "cell_type": "markdown",
   "id": "1404235f-519b-4e8e-b791-cf1b77d11d95",
   "metadata": {},
   "source": [
    "#### Списки списков (кортежей) с суммой чисел"
   ]
  },
  {
   "cell_type": "code",
   "execution_count": 8,
   "id": "1caf5e58-fafe-4876-b1a0-f7d9369fe877",
   "metadata": {},
   "outputs": [
    {
     "data": {
      "text/plain": [
       "[[0, 0, 0], [0, 1, 1], [0, 2, 2], [1, 0, 1], [1, 1, 2], [1, 2, 3]]"
      ]
     },
     "execution_count": 8,
     "metadata": {},
     "output_type": "execute_result"
    }
   ],
   "source": [
    "[[x, y, x + y] for x in range(2) for y in range(3)]"
   ]
  },
  {
   "cell_type": "markdown",
   "id": "3353dbd7-c2cc-4d52-8946-c3bd1bd5d9f1",
   "metadata": {},
   "source": [
    "#### Условные выражения внутри спискового включения"
   ]
  },
  {
   "cell_type": "code",
   "execution_count": 9,
   "id": "4361bf5e-8cfd-403c-a9b8-885352915c73",
   "metadata": {},
   "outputs": [
    {
     "data": {
      "text/plain": [
       "['even', 'odd', 'even', 'odd', 'even', 'odd', 'even', 'odd', 'even', 'odd']"
      ]
     },
     "execution_count": 9,
     "metadata": {},
     "output_type": "execute_result"
    }
   ],
   "source": [
    "[\"even\" if x % 2 == 0 else \"odd\" for x in range(10)]"
   ]
  },
  {
   "cell_type": "markdown",
   "id": "f8fd53b0-d4d6-4d5e-82d4-0b57930479f0",
   "metadata": {},
   "source": [
    "#### Использование enumerate для создания списка с индексами"
   ]
  },
  {
   "cell_type": "code",
   "execution_count": 10,
   "id": "ec2a5d89-73c4-4983-add8-6cc344e40791",
   "metadata": {},
   "outputs": [
    {
     "data": {
      "text/plain": [
       "[[0, 0],\n",
       " [1, 1],\n",
       " [2, 2],\n",
       " [3, 3],\n",
       " [4, 4],\n",
       " [5, 5],\n",
       " [6, 6],\n",
       " [7, 7],\n",
       " [8, 8],\n",
       " [9, 9]]"
      ]
     },
     "execution_count": 10,
     "metadata": {},
     "output_type": "execute_result"
    }
   ],
   "source": [
    "[[i, x] for i, x in enumerate(range(10))]"
   ]
  },
  {
   "cell_type": "markdown",
   "id": "7f9e1f90-0bdf-4990-8f7b-3806fd313537",
   "metadata": {},
   "source": [
    "#### Применение выражений генераторов и функции sum"
   ]
  },
  {
   "cell_type": "code",
   "execution_count": 11,
   "id": "9b381442-8ec3-42da-a633-37297e4365f6",
   "metadata": {},
   "outputs": [
    {
     "data": {
      "text/plain": [
       "45"
      ]
     },
     "execution_count": 11,
     "metadata": {},
     "output_type": "execute_result"
    }
   ],
   "source": [
    "sum(x for x in range(10))"
   ]
  },
  {
   "cell_type": "markdown",
   "id": "2efe3257-fdc1-478b-9459-991f88fe2485",
   "metadata": {},
   "source": [
    "#### Использование функции zip и спискового включения"
   ]
  },
  {
   "cell_type": "markdown",
   "id": "0c59ed8b-adfd-41cf-9b4c-eb98d5da5adc",
   "metadata": {},
   "source": [
    "Функция zip в Python используется для объединения нескольких итерируемых объектов (например, списков или кортежей) в один итерируемый объект. Каждый элемент этого итерируемого объекта является кортежем, который содержит элементы из всех переданных итерируемых объектов, соединенные по индексам.\n"
   ]
  },
  {
   "cell_type": "code",
   "execution_count": 12,
   "id": "49d57d20-6696-47c0-9591-a95ea871c993",
   "metadata": {},
   "outputs": [
    {
     "data": {
      "text/plain": [
       "[(0, 5), (1, 6), (2, 7), (3, 8), (4, 9)]"
      ]
     },
     "execution_count": 12,
     "metadata": {},
     "output_type": "execute_result"
    }
   ],
   "source": [
    "[x for x in zip(range(5), range(5, 10))]"
   ]
  },
  {
   "cell_type": "code",
   "execution_count": 13,
   "id": "d55f94ec-6a5f-4682-92d7-ffbe3749be90",
   "metadata": {},
   "outputs": [
    {
     "data": {
      "text/plain": [
       "[5, 7, 9, 11, 13]"
      ]
     },
     "execution_count": 13,
     "metadata": {},
     "output_type": "execute_result"
    }
   ],
   "source": [
    "[x + y for x, y in zip(range(5), range(5, 10))]"
   ]
  },
  {
   "cell_type": "markdown",
   "id": "25aaba2f-a7e8-4e04-984c-9c52b20c269b",
   "metadata": {},
   "source": [
    "### Работа с другими структурами"
   ]
  },
  {
   "cell_type": "code",
   "execution_count": 14,
   "id": "54836842-1fd5-4f32-bb9f-96c32815a5b2",
   "metadata": {},
   "outputs": [
    {
     "name": "stdout",
     "output_type": "stream",
     "text": [
      "1 plus 2 equals 3\n",
      "3 plus 4 equals 7\n",
      "5 plus 6 equals 11\n"
     ]
    }
   ],
   "source": [
    "x = [(1,2), (3,4), (5,6)]\n",
    "\n",
    "for a, b in x:\n",
    "    print(a, \"plus\", b, \"equals\", a+b)"
   ]
  },
  {
   "cell_type": "code",
   "execution_count": 15,
   "id": "0c2065dc-84bf-4025-9dac-2f2bb2608fbd",
   "metadata": {},
   "outputs": [
    {
     "name": "stdout",
     "output_type": "stream",
     "text": [
      "AAPL : 187.31\n",
      "MSFT : 124.06\n",
      "FB : 183.5\n"
     ]
    }
   ],
   "source": [
    "stocks = {\n",
    "        'AAPL': 187.31,\n",
    "        'MSFT': 124.06,\n",
    "        'FB': 183.50\n",
    "    }\n",
    "\n",
    "for key, value in stocks.items() :\n",
    "    print(key + \" : \" + str(value))"
   ]
  },
  {
   "cell_type": "markdown",
   "id": "1f95e7b5-d7b4-43f9-af2e-46ad202eff26",
   "metadata": {},
   "source": [
    "#### Генерация словаря в одну строчку"
   ]
  },
  {
   "cell_type": "code",
   "execution_count": 16,
   "id": "be106252-2f02-4d05-964b-3cc0302086b8",
   "metadata": {},
   "outputs": [
    {
     "data": {
      "text/plain": [
       "{0: 0, 1: 1, 2: 4, 3: 9, 4: 16, 5: 25, 6: 36, 7: 49, 8: 64, 9: 81}"
      ]
     },
     "execution_count": 16,
     "metadata": {},
     "output_type": "execute_result"
    }
   ],
   "source": [
    "{x: x**2 for x in range(10)}"
   ]
  }
 ],
 "metadata": {
  "kernelspec": {
   "display_name": "Python 3 (ipykernel)",
   "language": "python",
   "name": "python3"
  },
  "language_info": {
   "codemirror_mode": {
    "name": "ipython",
    "version": 3
   },
   "file_extension": ".py",
   "mimetype": "text/x-python",
   "name": "python",
   "nbconvert_exporter": "python",
   "pygments_lexer": "ipython3",
   "version": "3.9.11"
  }
 },
 "nbformat": 4,
 "nbformat_minor": 5
}
