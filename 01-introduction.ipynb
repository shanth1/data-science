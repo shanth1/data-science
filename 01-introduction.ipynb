{
 "cells": [
  {
   "cell_type": "markdown",
   "id": "c8f0f75b-c21c-4b6f-9718-cf43b5368eaf",
   "metadata": {},
   "source": [
    "## Базовые операции"
   ]
  },
  {
   "cell_type": "code",
   "execution_count": 1,
   "id": "b39a121f-6d13-46f6-b203-4f429fb4993f",
   "metadata": {},
   "outputs": [],
   "source": [
    "a = 5\n",
    "b = 2"
   ]
  },
  {
   "cell_type": "code",
   "execution_count": 2,
   "id": "407769cc-7ab5-43b8-ad85-214f33d4c03c",
   "metadata": {},
   "outputs": [
    {
     "name": "stdout",
     "output_type": "stream",
     "text": [
      "<class 'int'>\n"
     ]
    }
   ],
   "source": [
    "print(type(a))"
   ]
  },
  {
   "cell_type": "code",
   "execution_count": 3,
   "id": "f6625d07-a78c-4127-86f4-a619eb65b8d1",
   "metadata": {},
   "outputs": [],
   "source": [
    "A = a + b\n",
    "B = a * b\n",
    "C = a / b\n",
    "D = a // b\n",
    "E = a ** b"
   ]
  },
  {
   "cell_type": "code",
   "execution_count": 4,
   "id": "becbfadb-be54-454f-866c-4ffe47d1e064",
   "metadata": {},
   "outputs": [
    {
     "name": "stdout",
     "output_type": "stream",
     "text": [
      "7 10 2.5 2 25\n"
     ]
    }
   ],
   "source": [
    "print(A, B, C, D, E)"
   ]
  },
  {
   "cell_type": "code",
   "execution_count": 5,
   "id": "ce3b912a-9a8c-4383-b58a-8c564546b85f",
   "metadata": {},
   "outputs": [
    {
     "data": {
      "text/plain": [
       "-2.5"
      ]
     },
     "execution_count": 5,
     "metadata": {},
     "output_type": "execute_result"
    }
   ],
   "source": [
    "-a / b"
   ]
  },
  {
   "cell_type": "code",
   "execution_count": 6,
   "id": "8a9d28a5-a1be-40a4-a775-4ea25650a9f7",
   "metadata": {},
   "outputs": [
    {
     "data": {
      "text/plain": [
       "-3"
      ]
     },
     "execution_count": 6,
     "metadata": {},
     "output_type": "execute_result"
    }
   ],
   "source": [
    "-a // b"
   ]
  },
  {
   "cell_type": "code",
   "execution_count": 7,
   "id": "f1d1d5e2-3706-4457-a8a6-edf570317d78",
   "metadata": {},
   "outputs": [
    {
     "data": {
      "text/plain": [
       "-2"
      ]
     },
     "execution_count": 7,
     "metadata": {},
     "output_type": "execute_result"
    }
   ],
   "source": [
    "-(a // b)"
   ]
  },
  {
   "cell_type": "markdown",
   "id": "13d7860f-75f5-4ed2-a9fa-12cd1ddb372a",
   "metadata": {},
   "source": [
    "## Комплексные числа"
   ]
  },
  {
   "cell_type": "code",
   "execution_count": 8,
   "id": "7db709ee-45c0-4849-aa96-f97d85b3707d",
   "metadata": {},
   "outputs": [
    {
     "name": "stdout",
     "output_type": "stream",
     "text": [
      "<class 'complex'>\n"
     ]
    }
   ],
   "source": [
    "c1 = 5 + 9j\n",
    "print(type(c1))"
   ]
  },
  {
   "cell_type": "code",
   "execution_count": 9,
   "id": "eccbf146-21a4-4b29-913c-d4560bd10754",
   "metadata": {},
   "outputs": [
    {
     "name": "stdout",
     "output_type": "stream",
     "text": [
      "(3+2j)\n"
     ]
    },
    {
     "data": {
      "text/plain": [
       "complex"
      ]
     },
     "execution_count": 9,
     "metadata": {},
     "output_type": "execute_result"
    }
   ],
   "source": [
    "c2 = complex(3, 2)\n",
    "print(c2)\n",
    "type(c2)"
   ]
  },
  {
   "cell_type": "code",
   "execution_count": 10,
   "id": "51d8e151-c223-44f7-a037-b2d66ebf606b",
   "metadata": {},
   "outputs": [
    {
     "name": "stdout",
     "output_type": "stream",
     "text": [
      "(8+11j)\n",
      "(2+7j)\n",
      "(-3+37j)\n",
      "(2.5384615384615388+1.307692307692308j)\n"
     ]
    }
   ],
   "source": [
    "print(c1 + c2)\n",
    "print(c1 - c2)\n",
    "print(c1 * c2)\n",
    "print(c1 / c2)"
   ]
  },
  {
   "cell_type": "code",
   "execution_count": 11,
   "id": "ad2a2486-4e13-4aaf-94b6-9c2a7fe3afd4",
   "metadata": {},
   "outputs": [
    {
     "name": "stdout",
     "output_type": "stream",
     "text": [
      "c1 = (5+9j)\n",
      "(5-9j)\n",
      "9.0\n",
      "5.0\n"
     ]
    }
   ],
   "source": [
    "print(\"c1 =\", c1)\n",
    "print(c1.conjugate()) # сопряженное число\n",
    "print(c1.imag) # мнимая часть\n",
    "print(c1.real) # действительная часть"
   ]
  },
  {
   "cell_type": "markdown",
   "id": "819cc086-76a0-4861-a175-a40dbb01b562",
   "metadata": {},
   "source": [
    "## Строки"
   ]
  },
  {
   "cell_type": "code",
   "execution_count": 12,
   "id": "91338894-70c1-40ee-802e-cdc5c8a61064",
   "metadata": {},
   "outputs": [
    {
     "name": "stdout",
     "output_type": "stream",
     "text": [
      "<class 'str'>\n"
     ]
    }
   ],
   "source": [
    "a = \"Hello\"\n",
    "b = \"World\"\n",
    "\n",
    "print(type(a))"
   ]
  },
  {
   "cell_type": "code",
   "execution_count": 13,
   "id": "8c620ab3-d4f6-45e8-b283-1c4f5bcc5886",
   "metadata": {},
   "outputs": [
    {
     "name": "stdout",
     "output_type": "stream",
     "text": [
      "HelloWorld\n",
      "HelloHelloHello\n",
      "hello\n",
      "WORLD\n",
      "l\n",
      "He.._..orld\n",
      "5\n"
     ]
    }
   ],
   "source": [
    "print(a + b)\n",
    "print(a * 3)\n",
    "print(a.lower())\n",
    "print(b.upper())\n",
    "print(a[2])\n",
    "print(a[:2], \"_\", b[1:], sep=\"..\")\n",
    "print(len(a))"
   ]
  },
  {
   "cell_type": "code",
   "execution_count": 14,
   "id": "d9403abb-4515-4b51-93d4-0ec528366ae8",
   "metadata": {},
   "outputs": [
    {
     "name": "stdout",
     "output_type": "stream",
     "text": [
      "У Миши 4 яблок, у Маши 8 яблок\n"
     ]
    }
   ],
   "source": [
    "print(\"У Миши %d яблок, у %s 8 яблок\" %(4, 'Маши'))"
   ]
  },
  {
   "cell_type": "markdown",
   "id": "c66a5165-6bf5-4f07-a6d7-8f210148c72d",
   "metadata": {},
   "source": [
    "## Помощь"
   ]
  },
  {
   "cell_type": "code",
   "execution_count": 15,
   "id": "c97d9d45-77a4-4d54-88ea-362cd3d8ca3c",
   "metadata": {},
   "outputs": [
    {
     "name": "stdout",
     "output_type": "stream",
     "text": [
      "Help on class int in module builtins:\n",
      "\n",
      "class int(object)\n",
      " |  int([x]) -> integer\n",
      " |  int(x, base=10) -> integer\n",
      " |  \n",
      " |  Convert a number or string to an integer, or return 0 if no arguments\n",
      " |  are given.  If x is a number, return x.__int__().  For floating point\n",
      " |  numbers, this truncates towards zero.\n",
      " |  \n",
      " |  If x is not a number or if base is given, then x must be a string,\n",
      " |  bytes, or bytearray instance representing an integer literal in the\n",
      " |  given base.  The literal can be preceded by '+' or '-' and be surrounded\n",
      " |  by whitespace.  The base defaults to 10.  Valid bases are 0 and 2-36.\n",
      " |  Base 0 means to interpret the base from the string as an integer literal.\n",
      " |  >>> int('0b100', base=0)\n",
      " |  4\n",
      " |  \n",
      " |  Built-in subclasses:\n",
      " |      bool\n",
      " |  \n",
      " |  Methods defined here:\n",
      " |  \n",
      " |  __abs__(self, /)\n",
      " |      abs(self)\n",
      " |  \n",
      " |  __add__(self, value, /)\n",
      " |      Return self+value.\n",
      " |  \n",
      " |  __and__(self, value, /)\n",
      " |      Return self&value.\n",
      " |  \n",
      " |  __bool__(self, /)\n",
      " |      True if self else False\n",
      " |  \n",
      " |  __ceil__(...)\n",
      " |      Ceiling of an Integral returns itself.\n",
      " |  \n",
      " |  __divmod__(self, value, /)\n",
      " |      Return divmod(self, value).\n",
      " |  \n",
      " |  __eq__(self, value, /)\n",
      " |      Return self==value.\n",
      " |  \n",
      " |  __float__(self, /)\n",
      " |      float(self)\n",
      " |  \n",
      " |  __floor__(...)\n",
      " |      Flooring an Integral returns itself.\n",
      " |  \n",
      " |  __floordiv__(self, value, /)\n",
      " |      Return self//value.\n",
      " |  \n",
      " |  __format__(self, format_spec, /)\n",
      " |      Default object formatter.\n",
      " |  \n",
      " |  __ge__(self, value, /)\n",
      " |      Return self>=value.\n",
      " |  \n",
      " |  __getattribute__(self, name, /)\n",
      " |      Return getattr(self, name).\n",
      " |  \n",
      " |  __getnewargs__(self, /)\n",
      " |  \n",
      " |  __gt__(self, value, /)\n",
      " |      Return self>value.\n",
      " |  \n",
      " |  __hash__(self, /)\n",
      " |      Return hash(self).\n",
      " |  \n",
      " |  __index__(self, /)\n",
      " |      Return self converted to an integer, if self is suitable for use as an index into a list.\n",
      " |  \n",
      " |  __int__(self, /)\n",
      " |      int(self)\n",
      " |  \n",
      " |  __invert__(self, /)\n",
      " |      ~self\n",
      " |  \n",
      " |  __le__(self, value, /)\n",
      " |      Return self<=value.\n",
      " |  \n",
      " |  __lshift__(self, value, /)\n",
      " |      Return self<<value.\n",
      " |  \n",
      " |  __lt__(self, value, /)\n",
      " |      Return self<value.\n",
      " |  \n",
      " |  __mod__(self, value, /)\n",
      " |      Return self%value.\n",
      " |  \n",
      " |  __mul__(self, value, /)\n",
      " |      Return self*value.\n",
      " |  \n",
      " |  __ne__(self, value, /)\n",
      " |      Return self!=value.\n",
      " |  \n",
      " |  __neg__(self, /)\n",
      " |      -self\n",
      " |  \n",
      " |  __or__(self, value, /)\n",
      " |      Return self|value.\n",
      " |  \n",
      " |  __pos__(self, /)\n",
      " |      +self\n",
      " |  \n",
      " |  __pow__(self, value, mod=None, /)\n",
      " |      Return pow(self, value, mod).\n",
      " |  \n",
      " |  __radd__(self, value, /)\n",
      " |      Return value+self.\n",
      " |  \n",
      " |  __rand__(self, value, /)\n",
      " |      Return value&self.\n",
      " |  \n",
      " |  __rdivmod__(self, value, /)\n",
      " |      Return divmod(value, self).\n",
      " |  \n",
      " |  __repr__(self, /)\n",
      " |      Return repr(self).\n",
      " |  \n",
      " |  __rfloordiv__(self, value, /)\n",
      " |      Return value//self.\n",
      " |  \n",
      " |  __rlshift__(self, value, /)\n",
      " |      Return value<<self.\n",
      " |  \n",
      " |  __rmod__(self, value, /)\n",
      " |      Return value%self.\n",
      " |  \n",
      " |  __rmul__(self, value, /)\n",
      " |      Return value*self.\n",
      " |  \n",
      " |  __ror__(self, value, /)\n",
      " |      Return value|self.\n",
      " |  \n",
      " |  __round__(...)\n",
      " |      Rounding an Integral returns itself.\n",
      " |      Rounding with an ndigits argument also returns an integer.\n",
      " |  \n",
      " |  __rpow__(self, value, mod=None, /)\n",
      " |      Return pow(value, self, mod).\n",
      " |  \n",
      " |  __rrshift__(self, value, /)\n",
      " |      Return value>>self.\n",
      " |  \n",
      " |  __rshift__(self, value, /)\n",
      " |      Return self>>value.\n",
      " |  \n",
      " |  __rsub__(self, value, /)\n",
      " |      Return value-self.\n",
      " |  \n",
      " |  __rtruediv__(self, value, /)\n",
      " |      Return value/self.\n",
      " |  \n",
      " |  __rxor__(self, value, /)\n",
      " |      Return value^self.\n",
      " |  \n",
      " |  __sizeof__(self, /)\n",
      " |      Returns size in memory, in bytes.\n",
      " |  \n",
      " |  __sub__(self, value, /)\n",
      " |      Return self-value.\n",
      " |  \n",
      " |  __truediv__(self, value, /)\n",
      " |      Return self/value.\n",
      " |  \n",
      " |  __trunc__(...)\n",
      " |      Truncating an Integral returns itself.\n",
      " |  \n",
      " |  __xor__(self, value, /)\n",
      " |      Return self^value.\n",
      " |  \n",
      " |  as_integer_ratio(self, /)\n",
      " |      Return integer ratio.\n",
      " |      \n",
      " |      Return a pair of integers, whose ratio is exactly equal to the original int\n",
      " |      and with a positive denominator.\n",
      " |      \n",
      " |      >>> (10).as_integer_ratio()\n",
      " |      (10, 1)\n",
      " |      >>> (-10).as_integer_ratio()\n",
      " |      (-10, 1)\n",
      " |      >>> (0).as_integer_ratio()\n",
      " |      (0, 1)\n",
      " |  \n",
      " |  bit_length(self, /)\n",
      " |      Number of bits necessary to represent self in binary.\n",
      " |      \n",
      " |      >>> bin(37)\n",
      " |      '0b100101'\n",
      " |      >>> (37).bit_length()\n",
      " |      6\n",
      " |  \n",
      " |  conjugate(...)\n",
      " |      Returns self, the complex conjugate of any int.\n",
      " |  \n",
      " |  to_bytes(self, /, length, byteorder, *, signed=False)\n",
      " |      Return an array of bytes representing an integer.\n",
      " |      \n",
      " |      length\n",
      " |        Length of bytes object to use.  An OverflowError is raised if the\n",
      " |        integer is not representable with the given number of bytes.\n",
      " |      byteorder\n",
      " |        The byte order used to represent the integer.  If byteorder is 'big',\n",
      " |        the most significant byte is at the beginning of the byte array.  If\n",
      " |        byteorder is 'little', the most significant byte is at the end of the\n",
      " |        byte array.  To request the native byte order of the host system, use\n",
      " |        `sys.byteorder' as the byte order value.\n",
      " |      signed\n",
      " |        Determines whether two's complement is used to represent the integer.\n",
      " |        If signed is False and a negative integer is given, an OverflowError\n",
      " |        is raised.\n",
      " |  \n",
      " |  ----------------------------------------------------------------------\n",
      " |  Class methods defined here:\n",
      " |  \n",
      " |  from_bytes(bytes, byteorder, *, signed=False) from builtins.type\n",
      " |      Return the integer represented by the given array of bytes.\n",
      " |      \n",
      " |      bytes\n",
      " |        Holds the array of bytes to convert.  The argument must either\n",
      " |        support the buffer protocol or be an iterable object producing bytes.\n",
      " |        Bytes and bytearray are examples of built-in objects that support the\n",
      " |        buffer protocol.\n",
      " |      byteorder\n",
      " |        The byte order used to represent the integer.  If byteorder is 'big',\n",
      " |        the most significant byte is at the beginning of the byte array.  If\n",
      " |        byteorder is 'little', the most significant byte is at the end of the\n",
      " |        byte array.  To request the native byte order of the host system, use\n",
      " |        `sys.byteorder' as the byte order value.\n",
      " |      signed\n",
      " |        Indicates whether two's complement is used to represent the integer.\n",
      " |  \n",
      " |  ----------------------------------------------------------------------\n",
      " |  Static methods defined here:\n",
      " |  \n",
      " |  __new__(*args, **kwargs) from builtins.type\n",
      " |      Create and return a new object.  See help(type) for accurate signature.\n",
      " |  \n",
      " |  ----------------------------------------------------------------------\n",
      " |  Data descriptors defined here:\n",
      " |  \n",
      " |  denominator\n",
      " |      the denominator of a rational number in lowest terms\n",
      " |  \n",
      " |  imag\n",
      " |      the imaginary part of a complex number\n",
      " |  \n",
      " |  numerator\n",
      " |      the numerator of a rational number in lowest terms\n",
      " |  \n",
      " |  real\n",
      " |      the real part of a complex number\n",
      "\n"
     ]
    }
   ],
   "source": [
    "help(int) # аналогично с другими типами"
   ]
  },
  {
   "cell_type": "markdown",
   "id": "2789eddf-027f-4da6-9c81-6c296a689a5a",
   "metadata": {},
   "source": [
    "## Память"
   ]
  },
  {
   "cell_type": "code",
   "execution_count": 16,
   "id": "9f0fb0b2-e386-473e-baab-43511d106aff",
   "metadata": {},
   "outputs": [
    {
     "data": {
      "text/plain": [
       "53"
      ]
     },
     "execution_count": 16,
     "metadata": {},
     "output_type": "execute_result"
    }
   ],
   "source": [
    "str = \"info\"\n",
    "str.__sizeof__() # количество байт"
   ]
  },
  {
   "cell_type": "markdown",
   "id": "bdd651ca-07c1-40fe-83b1-e20e45b21a0b",
   "metadata": {},
   "source": [
    "## Структуры данных"
   ]
  },
  {
   "cell_type": "markdown",
   "id": "d3c5dfc8-9522-408e-bbe0-cf70dff53594",
   "metadata": {},
   "source": [
    "### List"
   ]
  },
  {
   "cell_type": "markdown",
   "id": "86b88e51-a044-4a22-84ab-4180686df5f1",
   "metadata": {},
   "source": [
    "Список – это изменяемая структура данных. Может хранить в себе\n",
    "элементы разных типов. Обращение к элементу списка происходит с помощью\n",
    "индекса, начиная с 0. Чтобы обратиться к элементу с конца списка, то\n",
    "используется -1, -2 и т.д. Объявление списка происходит с помощью [] или\n",
    "list()"
   ]
  },
  {
   "cell_type": "code",
   "execution_count": 17,
   "id": "6b9d87aa-3fb6-427e-bd40-cefd5f498ef8",
   "metadata": {},
   "outputs": [],
   "source": [
    "l1 = [1, 4, 2, \"text\", 8, complex(3, 2)]\n",
    "l2 = [3, 2, 8, 1]"
   ]
  },
  {
   "cell_type": "code",
   "execution_count": 18,
   "id": "678b26d2-478b-4bee-b87c-8a2e124bb906",
   "metadata": {},
   "outputs": [
    {
     "data": {
      "text/plain": [
       "[1, 4, 2, 'text', 8, (3+2j), 3, 2, 8, 1]"
      ]
     },
     "execution_count": 18,
     "metadata": {},
     "output_type": "execute_result"
    }
   ],
   "source": [
    "l1 + l2"
   ]
  },
  {
   "cell_type": "code",
   "execution_count": 19,
   "id": "d3f418be-b3e4-4948-9e76-dfb7167fafa6",
   "metadata": {},
   "outputs": [
    {
     "data": {
      "text/plain": [
       "[4, 2]"
      ]
     },
     "execution_count": 19,
     "metadata": {},
     "output_type": "execute_result"
    }
   ],
   "source": [
    "l1[1:3]"
   ]
  },
  {
   "cell_type": "code",
   "execution_count": 20,
   "id": "c78c52d2-4fb8-4fb3-a291-1508595abb0a",
   "metadata": {},
   "outputs": [
    {
     "data": {
      "text/plain": [
       "[1, 4, 2, 'text', 8, (3+2j), 'new']"
      ]
     },
     "execution_count": 20,
     "metadata": {},
     "output_type": "execute_result"
    }
   ],
   "source": [
    "l1.append(\"new\")\n",
    "l1"
   ]
  },
  {
   "cell_type": "code",
   "execution_count": 21,
   "id": "23e46abe-bad4-42fd-8a63-cb395cfdce70",
   "metadata": {},
   "outputs": [
    {
     "data": {
      "text/plain": [
       "[1, 'insert', 4, 2, 'text', 8, (3+2j), 'new']"
      ]
     },
     "execution_count": 21,
     "metadata": {},
     "output_type": "execute_result"
    }
   ],
   "source": [
    "l1.insert(1, \"insert\")\n",
    "l1"
   ]
  },
  {
   "cell_type": "code",
   "execution_count": 22,
   "id": "dcf67707-268e-494d-b4fd-1dabffac8773",
   "metadata": {},
   "outputs": [
    {
     "data": {
      "text/plain": [
       "[1, 'insert', 'insert', 4, 2, 'text', 8, (3+2j), 'new', 'new']"
      ]
     },
     "execution_count": 22,
     "metadata": {},
     "output_type": "execute_result"
    }
   ],
   "source": [
    "l1.append(\"new\")\n",
    "l1.insert(1, \"insert\")\n",
    "l1"
   ]
  },
  {
   "cell_type": "code",
   "execution_count": 23,
   "id": "1e851624-0364-49f0-8a99-5fb57d143e2c",
   "metadata": {},
   "outputs": [
    {
     "data": {
      "text/plain": [
       "[1, 'insert', 'insert', 2, 'text', 8, (3+2j), 'new', 'new']"
      ]
     },
     "execution_count": 23,
     "metadata": {},
     "output_type": "execute_result"
    }
   ],
   "source": [
    "l1.remove(4)\n",
    "l1"
   ]
  },
  {
   "cell_type": "code",
   "execution_count": 24,
   "id": "8f66ca17-0cd7-4b91-b60e-846ea441c6d4",
   "metadata": {},
   "outputs": [
    {
     "data": {
      "text/plain": [
       "[1, 'insert', 'insert', 'text', 8, (3+2j), 'new', 'new']"
      ]
     },
     "execution_count": 24,
     "metadata": {},
     "output_type": "execute_result"
    }
   ],
   "source": [
    "del(l1[3])\n",
    "l1"
   ]
  },
  {
   "cell_type": "code",
   "execution_count": 25,
   "id": "d26ff4d7-455c-419b-971d-73885fe5ff8c",
   "metadata": {},
   "outputs": [
    {
     "name": "stdout",
     "output_type": "stream",
     "text": [
      "text\n",
      "[1, 'insert', 'insert', 8, (3+2j), 'new', 'new']\n"
     ]
    }
   ],
   "source": [
    "d = l1.pop(3)\n",
    "print(d)\n",
    "print(l1)"
   ]
  },
  {
   "cell_type": "code",
   "execution_count": 26,
   "id": "3bd586cc-164f-4282-b551-f04ff3a4ca3b",
   "metadata": {},
   "outputs": [],
   "source": [
    "# Будет ошибка, тк не найдет элемент\n",
    "# l1.remove(4) "
   ]
  },
  {
   "cell_type": "code",
   "execution_count": 27,
   "id": "adc7903e-d5a2-4f1f-a787-5c44bd7b2e48",
   "metadata": {},
   "outputs": [
    {
     "data": {
      "text/plain": [
       "[1, 2, 3, 8]"
      ]
     },
     "execution_count": 27,
     "metadata": {},
     "output_type": "execute_result"
    }
   ],
   "source": [
    "l2.sort()\n",
    "l2"
   ]
  },
  {
   "cell_type": "code",
   "execution_count": 28,
   "id": "1fb31e7a-21c2-4495-a46f-2b7a9e7e0c60",
   "metadata": {},
   "outputs": [
    {
     "data": {
      "text/plain": [
       "[8, 3, 2, 1]"
      ]
     },
     "execution_count": 28,
     "metadata": {},
     "output_type": "execute_result"
    }
   ],
   "source": [
    "l2.sort(reverse=True)\n",
    "l2"
   ]
  },
  {
   "cell_type": "code",
   "execution_count": 29,
   "id": "39237429-adaf-4f0f-ade7-a874f8a93bb6",
   "metadata": {},
   "outputs": [
    {
     "data": {
      "text/plain": [
       "[1, 2, 3, 8]"
      ]
     },
     "execution_count": 29,
     "metadata": {},
     "output_type": "execute_result"
    }
   ],
   "source": [
    "l2.reverse()\n",
    "l2"
   ]
  },
  {
   "cell_type": "code",
   "execution_count": 30,
   "id": "bd1ff394-bb9e-415b-8995-ec7d9a977d26",
   "metadata": {},
   "outputs": [
    {
     "name": "stdout",
     "output_type": "stream",
     "text": [
      "2\n",
      "8\n",
      "1\n"
     ]
    }
   ],
   "source": [
    "print(l1.count('new'))\n",
    "print(max(l2))\n",
    "print(min(l2))"
   ]
  },
  {
   "cell_type": "markdown",
   "id": "af28e399-c8f5-46be-a0d2-b47a84461765",
   "metadata": {},
   "source": [
    "### Tuple"
   ]
  },
  {
   "cell_type": "markdown",
   "id": "4193d424-7f95-4f78-b411-a388bf851b5d",
   "metadata": {},
   "source": [
    "Кортеж – неизменяемая структура данных. Аналогично списку, может\n",
    "хранить элементы разных типов. Кортеж объявляется через () или tuple(). Кортежи работают быстрее списков за счет своей неизменяемости"
   ]
  },
  {
   "cell_type": "code",
   "execution_count": 31,
   "id": "94dda092-4146-41a8-8ebd-471a2c953a65",
   "metadata": {},
   "outputs": [
    {
     "name": "stdout",
     "output_type": "stream",
     "text": [
      "<class 'tuple'>\n",
      "<class 'tuple'>\n",
      "<class 'tuple'>\n",
      "<class 'tuple'>\n"
     ]
    }
   ],
   "source": [
    "t1 = (1, 4, 3, 2)\n",
    "t2 = tuple(\"hello\")\n",
    "t3 = 1,\n",
    "t4 = 'text', 2\n",
    "\n",
    "print(type(t1))\n",
    "print(type(t2))\n",
    "print(type(t3))\n",
    "print(type(t4))"
   ]
  },
  {
   "cell_type": "code",
   "execution_count": 32,
   "id": "7d71354d-9620-471f-a93b-aba8db72c8a2",
   "metadata": {},
   "outputs": [
    {
     "data": {
      "text/plain": [
       "[1, 2, 3, 4]"
      ]
     },
     "execution_count": 32,
     "metadata": {},
     "output_type": "execute_result"
    }
   ],
   "source": [
    "sorted(t1)"
   ]
  },
  {
   "cell_type": "code",
   "execution_count": 33,
   "id": "cc7670f7-64c9-41f3-94ca-42bc6fe0665b",
   "metadata": {},
   "outputs": [
    {
     "data": {
      "text/plain": [
       "1"
      ]
     },
     "execution_count": 33,
     "metadata": {},
     "output_type": "execute_result"
    }
   ],
   "source": [
    "t2.index(\"e\")"
   ]
  },
  {
   "cell_type": "code",
   "execution_count": 34,
   "id": "0d4f18d0-d24d-4a65-b3b0-9a426efe8d88",
   "metadata": {},
   "outputs": [
    {
     "name": "stdout",
     "output_type": "stream",
     "text": [
      "h-i <class 'str'>\n"
     ]
    }
   ],
   "source": [
    "s = '-'.join(('h', 'i'))\n",
    "print(s, type(s))\n"
   ]
  },
  {
   "cell_type": "markdown",
   "id": "a1ad9515-bf8b-4d88-be90-ca6296d45111",
   "metadata": {},
   "source": [
    "### Set"
   ]
  },
  {
   "cell_type": "markdown",
   "id": "01dc40f8-9718-4dfa-b648-b1c74850fb75",
   "metadata": {},
   "source": [
    "Множество – неизменяемая структура данных, которая имеет\n",
    "требование к уникальности элементов. Множество удобно использовать для\n",
    "удаления повторяющихся элементов."
   ]
  },
  {
   "cell_type": "code",
   "execution_count": 35,
   "id": "0da31605-b511-4f1b-bdc3-74c31d0ec70f",
   "metadata": {},
   "outputs": [
    {
     "name": "stdout",
     "output_type": "stream",
     "text": [
      "{'2', '4', '1', '3'}\n",
      "List: ['2', '4', '1', '3']\n"
     ]
    }
   ],
   "source": [
    "S = set('12333334')\n",
    "print(S)\n",
    "print('List:', list(S))"
   ]
  },
  {
   "cell_type": "code",
   "execution_count": 36,
   "id": "f1575a33-113e-4cc3-b7ed-9a188c2ed853",
   "metadata": {},
   "outputs": [
    {
     "data": {
      "text/plain": [
       "{'1', '2', '3', '4', 'new'}"
      ]
     },
     "execution_count": 36,
     "metadata": {},
     "output_type": "execute_result"
    }
   ],
   "source": [
    "S.add('new')\n",
    "S"
   ]
  },
  {
   "cell_type": "code",
   "execution_count": 37,
   "id": "cda3acae-2710-44c0-a711-db79845a3bdd",
   "metadata": {},
   "outputs": [
    {
     "data": {
      "text/plain": [
       "{'1', '3', '4', 'new'}"
      ]
     },
     "execution_count": 37,
     "metadata": {},
     "output_type": "execute_result"
    }
   ],
   "source": [
    "S.remove('2')\n",
    "S"
   ]
  },
  {
   "cell_type": "code",
   "execution_count": 38,
   "id": "9a7848fb-43cc-4b8d-911c-e1e5341d0aa1",
   "metadata": {},
   "outputs": [
    {
     "data": {
      "text/plain": [
       "set()"
      ]
     },
     "execution_count": 38,
     "metadata": {},
     "output_type": "execute_result"
    }
   ],
   "source": [
    "S.clear()\n",
    "S"
   ]
  },
  {
   "cell_type": "markdown",
   "id": "7b42b6f5-b464-4dbf-9520-f82f316df697",
   "metadata": {},
   "source": [
    "### Dict"
   ]
  },
  {
   "cell_type": "markdown",
   "id": "70848ae9-0c42-4cdb-bd6b-5a7124d6c026",
   "metadata": {},
   "source": [
    "Словарь – ассоциативный массив, который хранит пары ключ:значение.\n",
    "Объявляется через {} при указании {ключ1:значение1, ключ2:значение2}.\n",
    "Ключ – уникальный и неизменяемый, поэтому tuple может использоваться в\n",
    "качестве ключа."
   ]
  },
  {
   "cell_type": "code",
   "execution_count": 39,
   "id": "056ece12-22d2-4a5f-a94d-c5a476aa5ef3",
   "metadata": {},
   "outputs": [
    {
     "name": "stdout",
     "output_type": "stream",
     "text": [
      "2\n",
      "1\n",
      "34234\n"
     ]
    }
   ],
   "source": [
    "x = 1\n",
    "\n",
    "d1 = {\n",
    "    'a': 1, \n",
    "    'b': 2, \n",
    "    ('c', 1): 3, \n",
    "    4: [1, 2, 3],\n",
    "    x: 34234\n",
    "}\n",
    "\n",
    "x = 'a'\n",
    "print(d1['b'])\n",
    "print(d1['a'])\n",
    "print(d1[1])"
   ]
  },
  {
   "cell_type": "code",
   "execution_count": 40,
   "id": "ab6e81d3-fe55-4048-a446-ddc1c71d4470",
   "metadata": {},
   "outputs": [
    {
     "name": "stdout",
     "output_type": "stream",
     "text": [
      "{'a': 1, 'b': 2, ('c', 1): 3, 4: [1, 2, 3], 1: 34234} <class 'dict'>\n"
     ]
    }
   ],
   "source": [
    "print(d1, type(d1))"
   ]
  },
  {
   "cell_type": "code",
   "execution_count": 41,
   "id": "617d9157-af7c-44af-885e-df2cdb063c5f",
   "metadata": {},
   "outputs": [
    {
     "name": "stdout",
     "output_type": "stream",
     "text": [
      "5\n",
      "dict_keys(['a', 'b', ('c', 1), 4, 1])\n",
      "dict_values([1, 2, 3, [1, 2, 3], 34234])\n"
     ]
    }
   ],
   "source": [
    "print(len(d1))\n",
    "print(d1.keys())\n",
    "print(d1.values())"
   ]
  },
  {
   "cell_type": "code",
   "execution_count": 42,
   "id": "f81ae376-3d9e-4075-bb0a-7fabbe8b8eb4",
   "metadata": {},
   "outputs": [
    {
     "name": "stdout",
     "output_type": "stream",
     "text": [
      "{'new_key': 'new value', 'a': 'updated'}\n"
     ]
    }
   ],
   "source": [
    "d2 = {\"new_key\": \"new value\", 'a': \"updated\"}\n",
    "print(d2)"
   ]
  },
  {
   "cell_type": "code",
   "execution_count": 43,
   "id": "ef8f1189-f0f0-4572-b2bb-644455a248e8",
   "metadata": {},
   "outputs": [
    {
     "name": "stdout",
     "output_type": "stream",
     "text": [
      "{'a': 'updated', 'b': 2, ('c', 1): 3, 4: [1, 2, 3], 1: 34234, 'new_key': 'new value'}\n"
     ]
    }
   ],
   "source": [
    "d1.update(d2)\n",
    "print(d1)"
   ]
  },
  {
   "cell_type": "code",
   "execution_count": 44,
   "id": "a3f6cb27-6802-44e2-b3f0-fe9a7871bcc7",
   "metadata": {},
   "outputs": [
    {
     "name": "stdout",
     "output_type": "stream",
     "text": [
      "updated\n",
      "updated\n"
     ]
    }
   ],
   "source": [
    "print(d1['a'])\n",
    "print(d1.get('a'))"
   ]
  },
  {
   "cell_type": "code",
   "execution_count": 45,
   "id": "50bbc27e-80ac-428d-856c-18465157e668",
   "metadata": {},
   "outputs": [
    {
     "name": "stdout",
     "output_type": "stream",
     "text": [
      "2\n",
      "{'a': 'updated', ('c', 1): 3, 4: [1, 2, 3], 1: 34234, 'new_key': 'new value'}\n"
     ]
    }
   ],
   "source": [
    "x = d1.pop('b') # удаление и возврат элемента\n",
    "print(x)\n",
    "print(d1)"
   ]
  },
  {
   "cell_type": "code",
   "execution_count": 46,
   "id": "3e676ae4-6bee-4003-9e6c-362836cd7e07",
   "metadata": {},
   "outputs": [
    {
     "name": "stdout",
     "output_type": "stream",
     "text": [
      "('new_key', 'new value')\n",
      "{'a': 'updated', ('c', 1): 3, 4: [1, 2, 3], 1: 34234}\n"
     ]
    }
   ],
   "source": [
    "print(d1.popitem()) # возврат и удаление последней пары в словаре\n",
    "print(d1)"
   ]
  },
  {
   "cell_type": "markdown",
   "id": "43468b7d-f1c4-4309-99d5-c617d4a94f76",
   "metadata": {},
   "source": [
    "### Копирование"
   ]
  },
  {
   "cell_type": "code",
   "execution_count": 47,
   "id": "b0f52afe-8b85-4e25-bcf5-a6708c58057c",
   "metadata": {},
   "outputs": [
    {
     "name": "stdout",
     "output_type": "stream",
     "text": [
      "[1, 2, 3, 4]\n",
      "[1, 2, 3, 4]\n"
     ]
    }
   ],
   "source": [
    "l = [1, 2, 3]\n",
    "l_linked = l\n",
    "l.append(4)\n",
    "print(l)\n",
    "print(l_linked)"
   ]
  },
  {
   "cell_type": "code",
   "execution_count": 48,
   "id": "a3acdb5a-a724-408a-955b-06040950fa1a",
   "metadata": {},
   "outputs": [
    {
     "name": "stdout",
     "output_type": "stream",
     "text": [
      "[1, 2, 3, 4]\n",
      "[1, 2, 3]\n"
     ]
    }
   ],
   "source": [
    "l = [1, 2, 3]\n",
    "l_copy = l.copy()\n",
    "l.append(4)\n",
    "print(l)\n",
    "print(l_copy)"
   ]
  },
  {
   "cell_type": "code",
   "execution_count": 49,
   "id": "6078dd04-8a17-405c-8358-5629c23bfdb8",
   "metadata": {},
   "outputs": [],
   "source": [
    "import copy"
   ]
  },
  {
   "cell_type": "code",
   "execution_count": 50,
   "id": "7d343c5a-7d97-4222-b853-cf9689a98742",
   "metadata": {},
   "outputs": [
    {
     "name": "stdout",
     "output_type": "stream",
     "text": [
      "{'a': 1, 'b': 2, 'c': 3}\n",
      "{'a': 1, 'b': 2}\n",
      "{'a': 1, 'b': 2}\n"
     ]
    }
   ],
   "source": [
    "d = {'a': 1, 'b': 2}\n",
    "d_copy1 = d.copy()\n",
    "d_copy2 = copy.deepcopy(d)\n",
    "d['c'] = 3\n",
    "\n",
    "print(d)\n",
    "print(d_copy1)\n",
    "print(d_copy2)"
   ]
  }
 ],
 "metadata": {
  "kernelspec": {
   "display_name": "Python 3 (ipykernel)",
   "language": "python",
   "name": "python3"
  },
  "language_info": {
   "codemirror_mode": {
    "name": "ipython",
    "version": 3
   },
   "file_extension": ".py",
   "mimetype": "text/x-python",
   "name": "python",
   "nbconvert_exporter": "python",
   "pygments_lexer": "ipython3",
   "version": "3.9.11"
  }
 },
 "nbformat": 4,
 "nbformat_minor": 5
}
