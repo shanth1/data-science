{
 "cells": [
  {
   "cell_type": "code",
   "execution_count": 1,
   "id": "9d1a9413-472a-4a6f-af1d-21a430190401",
   "metadata": {},
   "outputs": [],
   "source": [
    "import numpy as np"
   ]
  },
  {
   "cell_type": "markdown",
   "id": "b2d28d7f",
   "metadata": {},
   "source": [
    "## Numpy"
   ]
  },
  {
   "cell_type": "markdown",
   "id": "44737c57",
   "metadata": {},
   "source": [
    "### Массивы"
   ]
  },
  {
   "cell_type": "markdown",
   "id": "e7a06f0f",
   "metadata": {},
   "source": [
    "Генерация массива в numpy:"
   ]
  },
  {
   "cell_type": "code",
   "execution_count": 2,
   "id": "93752ba0",
   "metadata": {},
   "outputs": [
    {
     "name": "stdout",
     "output_type": "stream",
     "text": [
      "[5 7 9] <class 'numpy.ndarray'>\n"
     ]
    }
   ],
   "source": [
    "a = np.arange(5, 10, 2)\n",
    "print(a, type(a))"
   ]
  },
  {
   "cell_type": "code",
   "execution_count": 3,
   "id": "504a0df4",
   "metadata": {},
   "outputs": [
    {
     "data": {
      "text/plain": [
       "array([[0, 1],\n",
       "       [2, 3],\n",
       "       [4, 5]])"
      ]
     },
     "execution_count": 3,
     "metadata": {},
     "output_type": "execute_result"
    }
   ],
   "source": [
    "np.arange(6).reshape(3, 2)"
   ]
  },
  {
   "cell_type": "markdown",
   "id": "6836cd73",
   "metadata": {},
   "source": [
    "Можно привести список к numpy массиву:"
   ]
  },
  {
   "cell_type": "code",
   "execution_count": 4,
   "id": "ac0759fd",
   "metadata": {},
   "outputs": [
    {
     "name": "stdout",
     "output_type": "stream",
     "text": [
      "[1. 2. 3.] <class 'numpy.ndarray'>\n"
     ]
    }
   ],
   "source": [
    "x = np.array([1, 2, 3], dtype=float)\n",
    "print(x, type(x))"
   ]
  },
  {
   "cell_type": "markdown",
   "id": "097f36d6",
   "metadata": {},
   "source": [
    "Двумерные (и не только) массивы:"
   ]
  },
  {
   "cell_type": "code",
   "execution_count": 5,
   "id": "f1b79033",
   "metadata": {},
   "outputs": [
    {
     "name": "stdout",
     "output_type": "stream",
     "text": [
      "[[1 1 1]\n",
      " [2 3 4]]\n",
      "Кол-во измерений: 2\n",
      "Кол-во строк и столбцов (2, 3)\n",
      "[1 1 1]\n",
      "2\n",
      "2\n"
     ]
    }
   ],
   "source": [
    "xx = np.array([[1, 1, 1], [2, 3, 4]])\n",
    "print(xx)\n",
    "print(\"Кол-во измерений:\", xx.ndim)\n",
    "print(\"Кол-во строк и столбцов\", xx.shape)\n",
    "print(xx[0])\n",
    "print(xx[1][0])\n",
    "print(xx[1, 0])"
   ]
  },
  {
   "cell_type": "markdown",
   "id": "e43ecb0c",
   "metadata": {},
   "source": [
    "### Операции с векторами и матрицами"
   ]
  },
  {
   "cell_type": "code",
   "execution_count": 6,
   "id": "8491f54b",
   "metadata": {},
   "outputs": [
    {
     "name": "stdout",
     "output_type": "stream",
     "text": [
      "исходный массив:\n",
      "\n",
      "[[1 1 1]\n",
      " [2 2 2]\n",
      " [3 3 3]]\n",
      "---------\n",
      "arr * arr:\n",
      "\n",
      "[[1 1 1]\n",
      " [4 4 4]\n",
      " [9 9 9]]\n",
      "---------\n",
      "arr @ arr:\n",
      "\n",
      "[[ 6  6  6]\n",
      " [12 12 12]\n",
      " [18 18 18]]\n",
      "---------\n",
      "arr.dot(arr):\n",
      "\n",
      "[[ 6  6  6]\n",
      " [12 12 12]\n",
      " [18 18 18]]\n",
      "---------\n",
      "arr + arr:\n",
      "\n",
      "[[2 2 2]\n",
      " [4 4 4]\n",
      " [6 6 6]]\n",
      "---------\n",
      "arr - arr:\n",
      "\n",
      "[[0 0 0]\n",
      " [0 0 0]\n",
      " [0 0 0]]\n",
      "---------\n",
      "arr / arr:\n",
      "\n",
      "[[1. 1. 1.]\n",
      " [1. 1. 1.]\n",
      " [1. 1. 1.]]\n",
      "---------\n"
     ]
    }
   ],
   "source": [
    "arr = np.array([[1, 1, 1], [2, 2, 2], [3, 3, 3]])\n",
    "print(\"исходный массив:\\n\", arr, sep=\"\\n\")\n",
    "print(\"-\"*9)\n",
    "print(\"arr * arr:\\n\", arr*arr, sep=\"\\n\") # поэлементное умножение\n",
    "print(\"-\"*9)\n",
    "print(\"arr @ arr:\\n\", arr@arr, sep=\"\\n\") # матричное умножение\n",
    "print(\"-\"*9)\n",
    "print(\"arr.dot(arr):\\n\", arr.dot(arr), sep=\"\\n\") # матричное умножение\n",
    "print(\"-\"*9)\n",
    "print(\"arr + arr:\\n\", arr+arr, sep=\"\\n\") # сложение\n",
    "print(\"-\"*9)\n",
    "print(\"arr - arr:\\n\", arr-arr, sep=\"\\n\") # вычитание\n",
    "print(\"-\"*9)\n",
    "print(\"arr / arr:\\n\", arr/arr, sep=\"\\n\") # деление\n",
    "print(\"-\"*9)"
   ]
  },
  {
   "cell_type": "code",
   "execution_count": 7,
   "id": "bebb2c81",
   "metadata": {},
   "outputs": [
    {
     "name": "stdout",
     "output_type": "stream",
     "text": [
      "arr.T:\n",
      "\n",
      "[[1 2 3]\n",
      " [1 2 3]\n",
      " [1 2 3]]\n"
     ]
    }
   ],
   "source": [
    "print(\"arr.T:\\n\", arr.T, sep=\"\\n\") # транспонирование"
   ]
  },
  {
   "cell_type": "markdown",
   "id": "313d4363",
   "metadata": {},
   "source": [
    "### Генерация случайных значений"
   ]
  },
  {
   "cell_type": "markdown",
   "id": "813e0c13",
   "metadata": {},
   "source": [
    "генерация случайных значений из равномерного\n",
    "распределения от 0 до 1"
   ]
  },
  {
   "cell_type": "code",
   "execution_count": 8,
   "id": "c0d1cf35",
   "metadata": {},
   "outputs": [
    {
     "data": {
      "text/plain": [
       "0.14129351824077252"
      ]
     },
     "execution_count": 8,
     "metadata": {},
     "output_type": "execute_result"
    }
   ],
   "source": [
    "np.random.rand()"
   ]
  },
  {
   "cell_type": "code",
   "execution_count": 9,
   "id": "89c83a63",
   "metadata": {},
   "outputs": [
    {
     "data": {
      "text/plain": [
       "array([[0.56476828, 0.57201094],\n",
       "       [0.63830347, 0.97972268],\n",
       "       [0.07761528, 0.47675228]])"
      ]
     },
     "execution_count": 9,
     "metadata": {},
     "output_type": "execute_result"
    }
   ],
   "source": [
    "np.random.rand(3, 2)"
   ]
  },
  {
   "cell_type": "code",
   "execution_count": 10,
   "id": "1a23bcec",
   "metadata": {},
   "outputs": [
    {
     "data": {
      "text/plain": [
       "array([[2.15942399, 4.40481725],\n",
       "       [4.16189634, 2.09494631],\n",
       "       [2.02669734, 3.4053231 ]])"
      ]
     },
     "execution_count": 10,
     "metadata": {},
     "output_type": "execute_result"
    }
   ],
   "source": [
    "min_v = 2\n",
    "max_v = 5\n",
    "\n",
    "min_v + (max_v - min_v) * np.random.rand(3, 2) "
   ]
  }
 ],
 "metadata": {
  "kernelspec": {
   "display_name": "Python 3 (ipykernel)",
   "language": "python",
   "name": "python3"
  },
  "language_info": {
   "codemirror_mode": {
    "name": "ipython",
    "version": 3
   },
   "file_extension": ".py",
   "mimetype": "text/x-python",
   "name": "python",
   "nbconvert_exporter": "python",
   "pygments_lexer": "ipython3",
   "version": "3.12.2"
  }
 },
 "nbformat": 4,
 "nbformat_minor": 5
}
